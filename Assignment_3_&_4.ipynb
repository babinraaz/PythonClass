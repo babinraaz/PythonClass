{
  "nbformat": 4,
  "nbformat_minor": 0,
  "metadata": {
    "colab": {
      "name": "Assignment 3 & 4.ipynb",
      "provenance": [],
      "collapsed_sections": [],
      "authorship_tag": "ABX9TyPglkX2mzvOvABaHbbyjnNL",
      "include_colab_link": true
    },
    "kernelspec": {
      "name": "python3",
      "display_name": "Python 3"
    },
    "language_info": {
      "name": "python"
    }
  },
  "cells": [
    {
      "cell_type": "markdown",
      "metadata": {
        "id": "view-in-github",
        "colab_type": "text"
      },
      "source": [
        "<a href=\"https://colab.research.google.com/github/babinraaz/PythonClass/blob/master/Assignment_3_%26_4.ipynb\" target=\"_parent\"><img src=\"https://colab.research.google.com/assets/colab-badge.svg\" alt=\"Open In Colab\"/></a>"
      ]
    },
    {
      "cell_type": "markdown",
      "metadata": {
        "id": "cAmhjARksBnx"
      },
      "source": [
        ">**Python for Data Science and Machine Learning Course**\n",
        "\n",
        "**Homework Assignment 3**\n",
        "\n",
        "**Topic: Python Functions**\n",
        "\n",
        "Exercise 1: Rewrite your pay computation with time-and-a-half for over-time and create a function called computepay which takes two parameters (hours and rate).\n",
        "\n",
        "Enter Hours: 45\n",
        "\n",
        "Enter Rate: 10\n",
        "\n",
        "Pay: 475.0"
      ]
    },
    {
      "cell_type": "code",
      "metadata": {
        "id": "OBjgvNopq8yT",
        "colab": {
          "base_uri": "https://localhost:8080/"
        },
        "outputId": "ea6e8960-6178-4496-9d80-8ec6fdff15b1"
      },
      "source": [
        "#Function computepay with two parameters\n",
        "def computepay(hours, rate):\n",
        "  # executes if the hour is greater than 0 and less than 40\n",
        "  if get_hour>0 and get_hour <= 40:\n",
        "    #returns value\n",
        "    return (hours*rate)\n",
        "    #executes if hour is greater than 40\n",
        "  elif get_hour > 40:\n",
        "    #returns value\n",
        "    return (get_hour-40) * (get_rate*1.5) + (40 * get_rate)\n",
        "  \n",
        "#get input from user\n",
        "get_rate = float(input ('Enter the hourly rate ')) \n",
        "get_hour = float(input('Enter the working hour '))\n",
        "\n",
        "#Display output after passing parameters\n",
        "print ('Payment for your work is ' + str(computepay(get_hour, get_rate)))\n",
        "\n"
      ],
      "execution_count": 2,
      "outputs": [
        {
          "output_type": "stream",
          "name": "stdout",
          "text": [
            "Enter the hourly rate 10\n",
            "Enter the working hour 45\n",
            "Payment for your work is 475.0\n"
          ]
        }
      ]
    },
    {
      "cell_type": "markdown",
      "metadata": {
        "id": "_yYvuFTDBc2c"
      },
      "source": [
        "Exercise 2: Rewrite the grade program from the previous chapter using a function called computegrade that takes a score as its parameter and returns a grade as a string.\n",
        "**Range**    **|**  Grade\n",
        "\n",
        "\n",
        "  **>= 0.9**   **|**  A\n",
        "\n",
        "   **>= 0.8**  **|**  B\n",
        "\n",
        "  **>= 0.7**   **|**   C\n",
        "\n",
        "  **>= 0.6**   **|** D\n",
        "  \n",
        "  **< 0.6**    | F"
      ]
    },
    {
      "cell_type": "code",
      "metadata": {
        "colab": {
          "base_uri": "https://localhost:8080/"
        },
        "id": "A3shrPdMBd_x",
        "outputId": "8c5399b6-28b8-4d24-f786-4b9ef32b21bc"
      },
      "source": [
        "#defining function and passing \n",
        "def computegrade(score):\n",
        "    #execute the if score is between 0.0 and 1.0\n",
        "    while score >= 0.0 and score <= 1.0:\n",
        "      #Checks score and returns corresponding grades\n",
        "      if score >= 0.9:\n",
        "        return 'A'\n",
        "      elif score >= 0.8:\n",
        "        return 'B'\n",
        "      elif score >= 0.7:\n",
        "        return 'C'\n",
        "      elif score >= 0.6:\n",
        "        return 'D'\n",
        "      else:\n",
        "        return 'F'\n",
        "    else:\n",
        "      return 'Bad Score'\n",
        "      \n",
        "#ask for inpput\n",
        "get_score = float(input('Enter yout score: '))\n",
        "#display and calls function \n",
        "print(computegrade(get_score))\n",
        "\n"
      ],
      "execution_count": null,
      "outputs": [
        {
          "output_type": "stream",
          "name": "stdout",
          "text": [
            "Enter yout score: 1\n",
            "A\n"
          ]
        }
      ]
    },
    {
      "cell_type": "markdown",
      "metadata": {
        "id": "yKHzePjhLxqG"
      },
      "source": [
        "># ** Homework 4 **\n",
        "\n",
        "> # **Topic: Python Loops**\n",
        "\n",
        "\n",
        "\n",
        "\n",
        "For the following exercises, please submit the link to your Colab notebook with solutions.\n",
        "\n",
        "Exercise 1: Write a program which repeatedly reads numbers until the user enters “done”. Once “done” is entered, print out the total, count, and average of the numbers. If the user enters anything other than a number, detect their mistake using try and except and print an error message and skip to the next number."
      ]
    },
    {
      "cell_type": "code",
      "metadata": {
        "colab": {
          "base_uri": "https://localhost:8080/"
        },
        "id": "zF8PNHLYLqBp",
        "outputId": "4e220ba1-b1e0-4538-d146-658b03997366"
      },
      "source": [
        "#Assiging intial values\n",
        "total = 0.0  \n",
        "count = 0\n",
        "average= 0.0\n",
        "#Continues loop till the loop is true\n",
        "while True:   \n",
        "  #ask for user for input\n",
        "  data = input(\"Enter the numbers to get calculation output: \")   \n",
        "  #excutes if the data provided is Done\n",
        "  if data == ('Done'):\n",
        "    # ends the while loop\n",
        "    break\n",
        "  #excutes for every possible data\n",
        "  try:\n",
        "    #converts every possible data to float data type\n",
        "    num = float(data)\n",
        "  #executes if data is not able to convert to float\n",
        "  except:\n",
        "    #alerts user for invalid data type\n",
        "    print(f'Invalid data: {data}')\n",
        "    #exits for the try-except\n",
        "    continue\n",
        "  #calculation\n",
        "  count +=1\n",
        "  total = total + num\n",
        "#printing output\n",
        "print(f'Total: {total}')\n",
        "print(f'Count: {count}')\n",
        "print('average: ' + str(total/count))"
      ],
      "execution_count": null,
      "outputs": [
        {
          "output_type": "stream",
          "name": "stdout",
          "text": [
            "Enter the numbers to get calculation output: 3\n",
            "Enter the numbers to get calculation output: 4\n",
            "Enter the numbers to get calculation output: 5\n",
            "Enter the numbers to get calculation output: Done\n",
            "Total: 12.0\n",
            "Count: 3\n",
            "average: 4.0\n"
          ]
        }
      ]
    },
    {
      "cell_type": "markdown",
      "metadata": {
        "id": "d6CFBQXvUIR1"
      },
      "source": [
        "**Exercise 2: Write another program that prompts for a list of numbers as above and at the end prints out both the maximum and minimum of the numbers instead of the average.**"
      ]
    },
    {
      "cell_type": "code",
      "metadata": {
        "colab": {
          "base_uri": "https://localhost:8080/"
        },
        "id": "pvfwgZpXUXb7",
        "outputId": "6ad3debe-bf4d-4b94-e246-e14703a08dad"
      },
      "source": [
        "#calculate the minimum and maxmium from the list from the user.\n",
        "#Intializing values of max and min as None\n",
        "max = None\n",
        "min = None\n",
        "#executes until the loop is true\n",
        "while True:\n",
        "  #Ask user to input number\n",
        "  data = input(\"Enter a number\")\n",
        "  #executes if entered number is 'Done'\n",
        "  if data == ('Done'):\n",
        "    #exits while loop\n",
        "    break\n",
        "  #executes for possible data \n",
        "  try:\n",
        "    #converts inputs from user to intger\n",
        "    num= int(data)\n",
        "    #excutes is min and max is not assigned\n",
        "    if min == None and max == None:\n",
        "      #Assigns values\n",
        "      min = num\n",
        "      max = num\n",
        "    #to get mimimum number \n",
        "    if min > num:\n",
        "      min = num\n",
        "    #to get maximum number\n",
        "    if max < num:\n",
        "      max = num\n",
        "  #excutes if the inputed data is not integer    \n",
        "  except:\n",
        "    #alerts for invalaid inputs\n",
        "    print(f\"Invalid Input:  {data}\")\n",
        "#Display Output    \n",
        "print(f'Minimum number: {min}')\n",
        "print(f'Maxmium number: {max}')\n",
        "\n",
        "\n"
      ],
      "execution_count": null,
      "outputs": [
        {
          "output_type": "stream",
          "name": "stdout",
          "text": [
            "Enter a number4.0\n",
            "Invalid Input:  4.0\n",
            "Enter a numberDone\n",
            "Minimum number: None\n",
            "Maxmium number: None\n"
          ]
        }
      ]
    }
  ]
}