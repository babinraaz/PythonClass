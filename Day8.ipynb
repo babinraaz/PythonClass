{
  "nbformat": 4,
  "nbformat_minor": 0,
  "metadata": {
    "colab": {
      "name": "Day8.ipynb",
      "provenance": [],
      "authorship_tag": "ABX9TyOJE04TD1I0qNBY+FXlMsf4",
      "include_colab_link": true
    },
    "kernelspec": {
      "name": "python3",
      "display_name": "Python 3"
    },
    "language_info": {
      "name": "python"
    }
  },
  "cells": [
    {
      "cell_type": "markdown",
      "metadata": {
        "id": "view-in-github",
        "colab_type": "text"
      },
      "source": [
        "<a href=\"https://colab.research.google.com/github/babinraaz/PythonClass/blob/master/Day8.ipynb\" target=\"_parent\"><img src=\"https://colab.research.google.com/assets/colab-badge.svg\" alt=\"Open In Colab\"/></a>"
      ]
    },
    {
      "cell_type": "markdown",
      "metadata": {
        "id": "_n-EWomN2jBx"
      },
      "source": [
        "Day *8*\n",
        "2. polymorphism"
      ]
    },
    {
      "cell_type": "code",
      "metadata": {
        "colab": {
          "base_uri": "https://localhost:8080/"
        },
        "id": "VOQ060FR2iHU",
        "outputId": "f0c7e655-b1c3-4227-d597-c39429699916"
      },
      "source": [
        "#polymorphism\n",
        "# we get different behavious after calling from different objects\n",
        "class A:\n",
        "  def explore(self):\n",
        "    print(\"explore() from class A\")\n",
        "class B:\n",
        "  def explore(self):\n",
        "    print(\"Explore () from class B \")\n",
        "\n",
        "a_obj = A()\n",
        "b_obj = B()\n",
        "\n",
        "a_obj.explore()"
      ],
      "execution_count": 2,
      "outputs": [
        {
          "output_type": "stream",
          "name": "stdout",
          "text": [
            "explore() from class A\n"
          ]
        }
      ]
    },
    {
      "cell_type": "markdown",
      "metadata": {
        "id": "y0aRFCFV6AnP"
      },
      "source": [
        "### NumPy\n"
      ]
    },
    {
      "cell_type": "code",
      "metadata": {
        "id": "7UM_WN-n6IM0"
      },
      "source": [
        "#NumPy is a powerful python library\n",
        "\n",
        "#install numPy\n",
        "#!pip install numpy\n",
        "#import numpy or import numpy as np  \n",
        "#numpy.__version__\n",
        "#"
      ],
      "execution_count": null,
      "outputs": []
    },
    {
      "cell_type": "code",
      "metadata": {
        "colab": {
          "base_uri": "https://localhost:8080/"
        },
        "id": "ljUF9oNZ66GC",
        "outputId": "84544583-b6d5-4cfb-b3c4-797d7527a5ba"
      },
      "source": [
        "#arrays => superfast ==> compared to list\n",
        "# one dimensional array\n",
        "\n",
        "import numpy as np\n",
        "\n",
        "np.array([1,2,3,4,5])     #same type of data\n",
        "arr1d = np.array([1,2,3,4,5])\n",
        "type(arr1d)   #type\n",
        "arr1d.shape\n",
        "arr1d.ndim    #dimension\n",
        "\n",
        "arr2d = np.array([[0,3], [-5, 7], [99, 4]])\n",
        "arr2d\n",
        "arr2d.ndim    #dimesion\n",
        "\n",
        "arr2d.dtype   #data type\n",
        "\n"
      ],
      "execution_count": 8,
      "outputs": [
        {
          "output_type": "execute_result",
          "data": {
            "text/plain": [
              "dtype('int64')"
            ]
          },
          "metadata": {},
          "execution_count": 8
        }
      ]
    },
    {
      "cell_type": "code",
      "metadata": {
        "id": "qtROF8zx9jZb"
      },
      "source": [
        "import numpy as np\n",
        "\n",
        "#multi-dimensional arrray\n",
        "\n",
        "np.zeros(6)\n",
        "#array([0., 0., 0., 0., 0., 0.])\n",
        "\n",
        "np.ones(6)\n",
        "#array([1., 1., 1., 1., 1., 1.])\n",
        "\n",
        "np.zeros=(2,3)"
      ],
      "execution_count": 12,
      "outputs": []
    },
    {
      "cell_type": "code",
      "metadata": {
        "colab": {
          "base_uri": "https://localhost:8080/"
        },
        "id": "M1MAZ8L2A4xz",
        "outputId": "9f41eb0f-c8ba-452f-c046-57bf2ae4cac5"
      },
      "source": [
        "#accessing array elements/items\n",
        "#np.random.random((2,3))\n",
        "arr_ = np.random.randint(1,10, size =(2,3))\n",
        "arr_[0]\n",
        "arr_[:,1]   #to get all values from row or column ':'"
      ],
      "execution_count": 18,
      "outputs": [
        {
          "output_type": "execute_result",
          "data": {
            "text/plain": [
              "array([8, 4])"
            ]
          },
          "metadata": {},
          "execution_count": 18
        }
      ]
    },
    {
      "cell_type": "code",
      "metadata": {
        "colab": {
          "base_uri": "https://localhost:8080/"
        },
        "id": "AhmVsTXFCnZo",
        "outputId": "4818c4f8-d51d-490d-9eb4-bcbc82990160"
      },
      "source": [
        "#universal functions\n",
        "\n",
        "import numpy as np\n",
        "arr_ = np.arange(1,10)\n",
        "arr_ ** 2\n",
        "-arr_\n",
        "np.sum(arr_)\n",
        "np.power(arr_,4)"
      ],
      "execution_count": 30,
      "outputs": [
        {
          "output_type": "execute_result",
          "data": {
            "text/plain": [
              "array([   1,   16,   81,  256,  625, 1296, 2401, 4096, 6561])"
            ]
          },
          "metadata": {},
          "execution_count": 30
        }
      ]
    }
  ]
}