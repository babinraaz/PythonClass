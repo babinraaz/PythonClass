{
  "nbformat": 4,
  "nbformat_minor": 0,
  "metadata": {
    "colab": {
      "name": "First_Python_Class.ipynb",
      "provenance": [],
      "collapsed_sections": [],
      "authorship_tag": "ABX9TyN3FspdJL2CnEixDGWY4WIF",
      "include_colab_link": true
    },
    "kernelspec": {
      "name": "python3",
      "display_name": "Python 3"
    },
    "language_info": {
      "name": "python"
    }
  },
  "cells": [
    {
      "cell_type": "markdown",
      "metadata": {
        "id": "view-in-github",
        "colab_type": "text"
      },
      "source": [
        "<a href=\"https://colab.research.google.com/github/babinraaz/PythonClass/blob/master/First_Python_Class.ipynb\" target=\"_parent\"><img src=\"https://colab.research.google.com/assets/colab-badge.svg\" alt=\"Open In Colab\"/></a>"
      ]
    },
    {
      "cell_type": "markdown",
      "metadata": {
        "id": "OMMOQKxIclwX"
      },
      "source": [
        "**Day 1**"
      ]
    },
    {
      "cell_type": "code",
      "metadata": {
        "colab": {
          "base_uri": "https://localhost:8080/",
          "height": 86
        },
        "id": "XiVtaR3YmBzd",
        "outputId": "9a64a35e-713c-4c2d-f531-0bbeec18033c"
      },
      "source": [
        "#Printing Hello World fir first time.\n",
        "print(\"Hello World!\")\n",
        "print (\"I love Python Language\")\n",
        "print(5+6)\n",
        "\n",
        "''' this is for multiline comment\n",
        "line 2'''"
      ],
      "execution_count": 5,
      "outputs": [
        {
          "output_type": "stream",
          "name": "stdout",
          "text": [
            "Hello World!\n",
            "I love Python Language\n",
            "11\n"
          ]
        },
        {
          "output_type": "execute_result",
          "data": {
            "application/vnd.google.colaboratory.intrinsic+json": {
              "type": "string"
            },
            "text/plain": [
              "' this is for multiline comment\\nline 2'"
            ]
          },
          "metadata": {},
          "execution_count": 5
        }
      ]
    },
    {
      "cell_type": "code",
      "metadata": {
        "colab": {
          "base_uri": "https://localhost:8080/"
        },
        "id": "qqXK2nCloB6R",
        "outputId": "d2ed46b0-5ab9-4c22-9510-4aace4926175"
      },
      "source": [
        "#Numberic Python Variables\n",
        "x =5 # the variable x holds the value 2\n",
        "X = 4  # this variabke X is different from x above\n",
        "\n",
        "print('x=', x)\n",
        "print('X=', X)"
      ],
      "execution_count": 1,
      "outputs": [
        {
          "output_type": "stream",
          "name": "stdout",
          "text": [
            "x= 5\n",
            "X= 4\n"
          ]
        }
      ]
    },
    {
      "cell_type": "code",
      "metadata": {
        "id": "wCtcl5AVWxnF"
      },
      "source": [
        ""
      ],
      "execution_count": null,
      "outputs": []
    },
    {
      "cell_type": "code",
      "metadata": {
        "id": "ORGEzAiQWKAV"
      },
      "source": [
        "#"
      ],
      "execution_count": null,
      "outputs": []
    },
    {
      "cell_type": "code",
      "metadata": {
        "colab": {
          "base_uri": "https://localhost:8080/"
        },
        "id": "JGyFq7KmoV1j",
        "outputId": "88d0c8ab-19e2-40f3-856d-525849eecfc0"
      },
      "source": [
        "print (x)"
      ],
      "execution_count": 10,
      "outputs": [
        {
          "output_type": "stream",
          "name": "stdout",
          "text": [
            "5\n"
          ]
        }
      ]
    },
    {
      "cell_type": "code",
      "metadata": {
        "colab": {
          "base_uri": "https://localhost:8080/"
        },
        "id": "lbQImHQojLVN",
        "outputId": "4d3f1734-2013-47d9-e3d6-147ec4dddb51"
      },
      "source": [
        "#inserting item in a list\n",
        "\n",
        "\n"
      ],
      "execution_count": 8,
      "outputs": [
        {
          "output_type": "execute_result",
          "data": {
            "text/plain": [
              "[-4, 0, 1, 3, 5]"
            ]
          },
          "metadata": {},
          "execution_count": 8
        }
      ]
    },
    {
      "cell_type": "code",
      "metadata": {
        "id": "T1PV20LEk-xO"
      },
      "source": [
        "#extend"
      ],
      "execution_count": null,
      "outputs": []
    },
    {
      "cell_type": "code",
      "metadata": {
        "id": "JikGVbKNlEnR"
      },
      "source": [
        "#append"
      ],
      "execution_count": null,
      "outputs": []
    },
    {
      "cell_type": "code",
      "metadata": {
        "id": "bxKzPab3lGvq"
      },
      "source": [
        "#remove list items\n"
      ],
      "execution_count": null,
      "outputs": []
    },
    {
      "cell_type": "code",
      "metadata": {
        "id": "JXBV-bYvliO4"
      },
      "source": [
        "#remove using the index"
      ],
      "execution_count": null,
      "outputs": []
    },
    {
      "cell_type": "code",
      "metadata": {
        "id": "f63_cRZsnwkt"
      },
      "source": [
        "#sorting\n",
        "lst =[1,-4,5,0,3]\n",
        "lst.sort() \n",
        "lst\n"
      ],
      "execution_count": null,
      "outputs": []
    },
    {
      "cell_type": "code",
      "metadata": {
        "colab": {
          "base_uri": "https://localhost:8080/"
        },
        "id": "4_WdeOJwn011",
        "outputId": "42b95471-f4e4-4b40-a942-a94206a2c26c"
      },
      "source": [
        "lst=['hi','London', 'Chicago', 'New York', 'Kathmandu', 'Nepa']\n",
        "lst.sort()\n",
        "lst"
      ],
      "execution_count": 9,
      "outputs": [
        {
          "output_type": "execute_result",
          "data": {
            "text/plain": [
              "['Chicago', 'Kathmandu', 'London', 'Nepa', 'New York', 'hi']"
            ]
          },
          "metadata": {},
          "execution_count": 9
        }
      ]
    },
    {
      "cell_type": "code",
      "metadata": {
        "colab": {
          "base_uri": "https://localhost:8080/"
        },
        "id": "XoI-c-dfozcy",
        "outputId": "670cd37f-961a-451c-ac76-446829b4b8d2"
      },
      "source": [
        "#ASCII Value\n",
        "ord ('E')\n",
        "#ord('e')"
      ],
      "execution_count": 12,
      "outputs": [
        {
          "output_type": "execute_result",
          "data": {
            "text/plain": [
              "69"
            ]
          },
          "metadata": {},
          "execution_count": 12
        }
      ]
    },
    {
      "cell_type": "code",
      "metadata": {
        "colab": {
          "base_uri": "https://localhost:8080/"
        },
        "id": "82fV_i40pt4N",
        "outputId": "5bf9d0dd-7970-490d-8d83-7f75c2520925"
      },
      "source": [
        "#Case Insensitive sort\n",
        "lst\n",
        "lst.sort(key=str.lower)\n",
        "lst"
      ],
      "execution_count": 13,
      "outputs": [
        {
          "output_type": "execute_result",
          "data": {
            "text/plain": [
              "['Chicago', 'hi', 'Kathmandu', 'London', 'Nepa', 'New York']"
            ]
          },
          "metadata": {},
          "execution_count": 13
        }
      ]
    },
    {
      "cell_type": "code",
      "metadata": {
        "colab": {
          "base_uri": "https://localhost:8080/"
        },
        "id": "-n78SHNGqJdD",
        "outputId": "4734da16-addb-4fe2-d932-0938684d467b"
      },
      "source": [
        "#revers the list\n",
        "#reverse the indice\n",
        "lst\n",
        "lst.reverse()\n",
        "lst"
      ],
      "execution_count": 14,
      "outputs": [
        {
          "output_type": "execute_result",
          "data": {
            "text/plain": [
              "['New York', 'Nepa', 'London', 'Kathmandu', 'hi', 'Chicago']"
            ]
          },
          "metadata": {},
          "execution_count": 14
        }
      ]
    },
    {
      "cell_type": "code",
      "metadata": {
        "colab": {
          "base_uri": "https://localhost:8080/",
          "height": 130
        },
        "id": "zaBd-Z3Dqbbs",
        "outputId": "f3ba2c48-800f-4bc1-a753-b04d99747383"
      },
      "source": [
        "#Copy a list\n",
        "lst\n",
        "lst2=lst\n",
        "lst2 as lst\n",
        "lst[0]= 'Changed'\n",
        "lst2\n",
        "\n"
      ],
      "execution_count": 19,
      "outputs": [
        {
          "output_type": "error",
          "ename": "SyntaxError",
          "evalue": "ignored",
          "traceback": [
            "\u001b[0;36m  File \u001b[0;32m\"<ipython-input-19-a55c455d2f37>\"\u001b[0;36m, line \u001b[0;32m4\u001b[0m\n\u001b[0;31m    lst2 as lst\u001b[0m\n\u001b[0m          ^\u001b[0m\n\u001b[0;31mSyntaxError\u001b[0m\u001b[0;31m:\u001b[0m invalid syntax\n"
          ]
        }
      ]
    },
    {
      "cell_type": "code",
      "metadata": {
        "id": "kJ3UcGsdsN1t"
      },
      "source": [
        "#Join List\n"
      ],
      "execution_count": null,
      "outputs": []
    }
  ]
}