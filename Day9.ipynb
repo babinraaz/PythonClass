{
  "nbformat": 4,
  "nbformat_minor": 0,
  "metadata": {
    "colab": {
      "name": "Day9.ipynb",
      "provenance": [],
      "authorship_tag": "ABX9TyMModfzL7KdQEKV1ErSM3vR",
      "include_colab_link": true
    },
    "kernelspec": {
      "name": "python3",
      "display_name": "Python 3"
    },
    "language_info": {
      "name": "python"
    }
  },
  "cells": [
    {
      "cell_type": "markdown",
      "metadata": {
        "id": "view-in-github",
        "colab_type": "text"
      },
      "source": [
        "<a href=\"https://colab.research.google.com/github/babinraaz/PythonClass/blob/master/Day9.ipynb\" target=\"_parent\"><img src=\"https://colab.research.google.com/assets/colab-badge.svg\" alt=\"Open In Colab\"/></a>"
      ]
    },
    {
      "cell_type": "markdown",
      "metadata": {
        "id": "gZIQUGMsCh8W"
      },
      "source": [
        "Pandas "
      ]
    },
    {
      "cell_type": "code",
      "metadata": {
        "colab": {
          "base_uri": "https://localhost:8080/",
          "height": 35
        },
        "id": "BeHF28QV8f7H",
        "outputId": "37d32e0b-5dc5-47ce-8e9a-16c4dc476d84"
      },
      "source": [
        "#ipython\n",
        "# to install\n",
        "#!pip install pandas\n",
        "\n",
        "\n",
        "import pandas as pd\n",
        "pd.__version__\n",
        "\n",
        "#'one' 'two' 'three' are indicies here\n",
        "ser = pd.Series (['one', 'two', 'three'])\n",
        "\n",
        "ser.values\n",
        "type(ser)\n",
        "ser.index\n",
        "\n",
        "ser[1]  # to get 'two'\n",
        "ser[1:] # to get all data after 'one\n",
        "\n",
        "#we can provide our own indcies in series\n",
        "\n",
        "#this is explicit\n",
        "ser1 = pd.Series(['hello', 'how', 'are', 'you'], index = [1, 'two', 'wow', 6.4])\n",
        "ser1\n",
        "\n",
        "#in series you can set your own index => explicit index\n",
        "#default index in series ==> implicit index\n",
        "\n",
        "\n",
        "ser1['two']\n",
        "#loc => explicit index; iloc => implicit index\n",
        "ser1.iloc[1]\n",
        "ser1.loc[1]\n",
        "\n"
      ],
      "execution_count": 17,
      "outputs": [
        {
          "output_type": "execute_result",
          "data": {
            "application/vnd.google.colaboratory.intrinsic+json": {
              "type": "string"
            },
            "text/plain": [
              "'hello'"
            ]
          },
          "metadata": {},
          "execution_count": 17
        }
      ]
    },
    {
      "cell_type": "code",
      "metadata": {
        "colab": {
          "base_uri": "https://localhost:8080/",
          "height": 130
        },
        "id": "65XMf9cABlJQ",
        "outputId": "09bef441-09fe-48cd-9274-e9c83199b59f"
      },
      "source": [
        "#intialization required from note*\n",
        "\n",
        "area_ser =pd.Series(area_dict)\n",
        "pop_ser pd.Series(population_dict)\n",
        "state_df = pd.DataFrame({'Area': area_ser, 'Population': pop_ser})\n",
        "\n",
        "types(state_df)  #type\n",
        "state_df['Population'] # to get poulation data only, series data type\n"
      ],
      "execution_count": 19,
      "outputs": [
        {
          "output_type": "error",
          "ename": "SyntaxError",
          "evalue": "ignored",
          "traceback": [
            "\u001b[0;36m  File \u001b[0;32m\"<ipython-input-19-578b87d7aa07>\"\u001b[0;36m, line \u001b[0;32m2\u001b[0m\n\u001b[0;31m    pop_ser pd.Series(population_dict)\u001b[0m\n\u001b[0m             ^\u001b[0m\n\u001b[0;31mSyntaxError\u001b[0m\u001b[0;31m:\u001b[0m invalid syntax\n"
          ]
        }
      ]
    }
  ]
}