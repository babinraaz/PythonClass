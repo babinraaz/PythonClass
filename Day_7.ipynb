{
  "nbformat": 4,
  "nbformat_minor": 0,
  "metadata": {
    "colab": {
      "name": "Day 7.ipynb",
      "provenance": [],
      "authorship_tag": "ABX9TyMaGft2wR0yaEcqzA5/0b8t",
      "include_colab_link": true
    },
    "kernelspec": {
      "name": "python3",
      "display_name": "Python 3"
    },
    "language_info": {
      "name": "python"
    }
  },
  "cells": [
    {
      "cell_type": "markdown",
      "metadata": {
        "id": "view-in-github",
        "colab_type": "text"
      },
      "source": [
        "<a href=\"https://colab.research.google.com/github/babinraaz/PythonClass/blob/master/Day_7.ipynb\" target=\"_parent\"><img src=\"https://colab.research.google.com/assets/colab-badge.svg\" alt=\"Open In Colab\"/></a>"
      ]
    },
    {
      "cell_type": "code",
      "metadata": {
        "colab": {
          "base_uri": "https://localhost:8080/"
        },
        "id": "6uRh-8IUp4HO",
        "outputId": "2b53ef56-9112-4b81-c3fc-a3085a48764a"
      },
      "source": [
        "class Student:\n",
        "  #constructor\n",
        "  def __init__(self, name , age):\n",
        "    self.name = name\n",
        "    self.age = age\n",
        "  #__str__()method\n",
        "  def __str__(self):\n",
        "    return f\"The student {self.name} is {self.age} years old\"\n",
        "\n",
        "ram= Student('Ram', 26) #instance, creating copies-->instances\n",
        "sam = Student('Sam', 24)\n",
        "\n",
        "ram.name\n",
        "ram.age\n",
        "print(ram)\n"
      ],
      "execution_count": null,
      "outputs": [
        {
          "output_type": "stream",
          "name": "stdout",
          "text": [
            "The student Ram is 26 years old\n"
          ]
        }
      ]
    },
    {
      "cell_type": "markdown",
      "metadata": {
        "id": "q5wVQaqgwiTD"
      },
      "source": [
        "2. Inheritance\n",
        "Code is provided in resources provided\n"
      ]
    },
    {
      "cell_type": "code",
      "metadata": {
        "id": "s_i5sUrlwvHl"
      },
      "source": [
        "#Rectangle class\n",
        "class Rectangle:\n",
        "  def __init__ (self, color, filled, width, length):\n",
        "    self.__color = color\n",
        "    self.__filled = filled\n",
        "    self.__width = width\n",
        "    self.__length = length\n"
      ],
      "execution_count": null,
      "outputs": []
    },
    {
      "cell_type": "code",
      "metadata": {
        "id": "-x_aHSlG0afs"
      },
      "source": [
        ""
      ],
      "execution_count": null,
      "outputs": []
    }
  ]
}