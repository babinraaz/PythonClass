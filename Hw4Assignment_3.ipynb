{
  "nbformat": 4,
  "nbformat_minor": 0,
  "metadata": {
    "colab": {
      "name": "Hw4Assignment 3.ipynb",
      "provenance": [],
      "authorship_tag": "ABX9TyP8D8fcsQgEOoLOrzRcb/+L",
      "include_colab_link": true
    },
    "kernelspec": {
      "name": "python3",
      "display_name": "Python 3"
    },
    "language_info": {
      "name": "python"
    }
  },
  "cells": [
    {
      "cell_type": "markdown",
      "metadata": {
        "id": "view-in-github",
        "colab_type": "text"
      },
      "source": [
        "<a href=\"https://colab.research.google.com/github/babinraaz/PythonClass/blob/master/Hw4Assignment_3.ipynb\" target=\"_parent\"><img src=\"https://colab.research.google.com/assets/colab-badge.svg\" alt=\"Open In Colab\"/></a>"
      ]
    },
    {
      "cell_type": "markdown",
      "metadata": {
        "id": "cAmhjARksBnx"
      },
      "source": [
        "**Python for Data Science and Machine Learning Course**\n",
        "\n",
        "**Homework Assignment 3**\n",
        "\n",
        "**Topic: Python Functions**\n",
        "\n",
        "Exercise 1: Rewrite your pay computation with time-and-a-half for over-time and create a function called computepay which takes two parameters (hours and rate).\n",
        "\n",
        "Enter Hours: 45\n",
        "\n",
        "Enter Rate: 10\n",
        "\n",
        "Pay: 475.0"
      ]
    },
    {
      "cell_type": "code",
      "metadata": {
        "id": "OBjgvNopq8yT",
        "colab": {
          "base_uri": "https://localhost:8080/",
          "height": 249
        },
        "outputId": "3cb275fa-f721-407a-a031-26f65f7e18dd"
      },
      "source": [
        "#Function computepay with two parameters\n",
        "def computepay(hours, rate):\n",
        "  # executes if the hour is greater than 0 and less than 40\n",
        "  if get_hour>0 and get_hour <= 40:\n",
        "    #returns value\n",
        "    return (hours*rate)\n",
        "    #executes if hour is greater than 40\n",
        "  elif get_hour > 40:\n",
        "    #return values\n",
        "    return (get_hour-40) * (get_rate*1.5) + (40 * get_rate)\n",
        "  \n",
        "#get input from user\n",
        "get_rate = float(input ('Enter the hourly rate ')) \n",
        "get_hour = float(input('Enter the working hour '))\n",
        "\n",
        "#Display output after passing parameters\n",
        "print ('Payment for your work is ' + str(computepay(get_hour, get_rate)))\n",
        "\n"
      ],
      "execution_count": 13,
      "outputs": [
        {
          "name": "stdout",
          "output_type": "stream",
          "text": [
            "Enter the hourly rate aa\n"
          ]
        },
        {
          "output_type": "error",
          "ename": "ValueError",
          "evalue": "ignored",
          "traceback": [
            "\u001b[0;31m---------------------------------------------------------------------------\u001b[0m",
            "\u001b[0;31mValueError\u001b[0m                                Traceback (most recent call last)",
            "\u001b[0;32m<ipython-input-13-1d82557c9a2d>\u001b[0m in \u001b[0;36m<module>\u001b[0;34m()\u001b[0m\n\u001b[1;32m      8\u001b[0m     \u001b[0mprint\u001b[0m\u001b[0;34m(\u001b[0m\u001b[0;34m\"Not Valid\"\u001b[0m\u001b[0;34m)\u001b[0m\u001b[0;34m\u001b[0m\u001b[0;34m\u001b[0m\u001b[0m\n\u001b[1;32m      9\u001b[0m \u001b[0;34m\u001b[0m\u001b[0m\n\u001b[0;32m---> 10\u001b[0;31m \u001b[0mget_rate\u001b[0m \u001b[0;34m=\u001b[0m \u001b[0mfloat\u001b[0m\u001b[0;34m(\u001b[0m\u001b[0minput\u001b[0m \u001b[0;34m(\u001b[0m\u001b[0;34m'Enter the hourly rate '\u001b[0m\u001b[0;34m)\u001b[0m\u001b[0;34m)\u001b[0m\u001b[0;34m\u001b[0m\u001b[0;34m\u001b[0m\u001b[0m\n\u001b[0m\u001b[1;32m     11\u001b[0m \u001b[0mget_hour\u001b[0m \u001b[0;34m=\u001b[0m \u001b[0mfloat\u001b[0m\u001b[0;34m(\u001b[0m\u001b[0minput\u001b[0m\u001b[0;34m(\u001b[0m\u001b[0;34m'Enter the working hour '\u001b[0m\u001b[0;34m)\u001b[0m\u001b[0;34m)\u001b[0m\u001b[0;34m\u001b[0m\u001b[0;34m\u001b[0m\u001b[0m\n\u001b[1;32m     12\u001b[0m \u001b[0mprint\u001b[0m \u001b[0;34m(\u001b[0m\u001b[0;34m'Payment for your work is '\u001b[0m \u001b[0;34m+\u001b[0m \u001b[0mstr\u001b[0m\u001b[0;34m(\u001b[0m\u001b[0mcomputepay\u001b[0m\u001b[0;34m(\u001b[0m\u001b[0mget_hour\u001b[0m\u001b[0;34m,\u001b[0m \u001b[0mget_rate\u001b[0m\u001b[0;34m)\u001b[0m\u001b[0;34m)\u001b[0m\u001b[0;34m)\u001b[0m\u001b[0;34m\u001b[0m\u001b[0;34m\u001b[0m\u001b[0m\n",
            "\u001b[0;31mValueError\u001b[0m: could not convert string to float: 'aa'"
          ]
        }
      ]
    },
    {
      "cell_type": "markdown",
      "metadata": {
        "id": "_yYvuFTDBc2c"
      },
      "source": [
        "Exercise 2: Rewrite the grade program from the previous chapter using a function called computegrade that takes a score as its parameter and returns a grade as a string.\n",
        "**Range**    **|**  Grade\n",
        "\n",
        "\n",
        "  **>= 0.9**   **|**  A\n",
        "\n",
        "   **>= 0.8**  **|**  B\n",
        "\n",
        "  **>= 0.7**   **|**   C\n",
        "\n",
        "  **>= 0.6**   **|** D\n",
        "  \n",
        "  **< 0.6**    | F"
      ]
    },
    {
      "cell_type": "code",
      "metadata": {
        "colab": {
          "base_uri": "https://localhost:8080/"
        },
        "id": "A3shrPdMBd_x",
        "outputId": "8c5399b6-28b8-4d24-f786-4b9ef32b21bc"
      },
      "source": [
        "#defining function and passing \n",
        "def computegrade(score):\n",
        "    #execute the if score is between 0.0 and 1.0\n",
        "    while score >= 0.0 and score <= 1.0:\n",
        "      #Checks score and returns corresponding grades\n",
        "      if score >= 0.9:\n",
        "        return 'A'\n",
        "      elif score >= 0.8:\n",
        "        return 'B'\n",
        "      elif score >= 0.7:\n",
        "        return 'C'\n",
        "      elif score >= 0.6:\n",
        "        return 'D'\n",
        "      else:\n",
        "        return 'F'\n",
        "    else:\n",
        "      return 'Bad Score'\n",
        "      \n",
        "#ask for inpput\n",
        "get_score = float(input('Enter yout score: '))\n",
        "#display and calls function \n",
        "print(computegrade(get_score))\n",
        "\n"
      ],
      "execution_count": 35,
      "outputs": [
        {
          "output_type": "stream",
          "name": "stdout",
          "text": [
            "Enter yout score: 1\n",
            "A\n"
          ]
        }
      ]
    }
  ]
}