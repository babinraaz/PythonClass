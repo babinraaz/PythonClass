{
  "nbformat": 4,
  "nbformat_minor": 0,
  "metadata": {
    "colab": {
      "name": "Day4.ipynb",
      "provenance": [],
      "authorship_tag": "ABX9TyO2OzO5nW6mdL2OfqOlYzAg",
      "include_colab_link": true
    },
    "kernelspec": {
      "name": "python3",
      "display_name": "Python 3"
    },
    "language_info": {
      "name": "python"
    }
  },
  "cells": [
    {
      "cell_type": "markdown",
      "metadata": {
        "id": "view-in-github",
        "colab_type": "text"
      },
      "source": [
        "<a href=\"https://colab.research.google.com/github/babinraaz/PythonClass/blob/master/Day4.ipynb\" target=\"_parent\"><img src=\"https://colab.research.google.com/assets/colab-badge.svg\" alt=\"Open In Colab\"/></a>"
      ]
    },
    {
      "cell_type": "markdown",
      "metadata": {
        "id": "ZZYqUBHd501F"
      },
      "source": [
        "Set"
      ]
    },
    {
      "cell_type": "code",
      "metadata": {
        "colab": {
          "base_uri": "https://localhost:8080/"
        },
        "id": "thMpcc8Z5s5V",
        "outputId": "71234ee3-7efd-413b-d78a-b480843760ac"
      },
      "source": [
        "#set\n",
        "# 1. set is immutable (only can add items to the set)\n",
        "# 2. doesnt allow duplicates\n",
        "# 3. enclosed by {}\n",
        "# 4. doesnt have index\n",
        "# 5. only allows to add (if not frozen set)\n",
        "\n",
        "my_set = {1,True, 0, False, 2.34}\n",
        "print(my_set)\n",
        "\n",
        "my_set.add({'hi'})\n",
        "\n",
        "for i in my_set:\n",
        "  print(i)\n",
        "\n",
        "\n",
        "\n"
      ],
      "execution_count": null,
      "outputs": [
        {
          "output_type": "stream",
          "name": "stdout",
          "text": [
            "{1, 2.34}\n",
            "1\n",
            "2.34\n"
          ]
        }
      ]
    },
    {
      "cell_type": "markdown",
      "metadata": {
        "id": "oQa0fwd87oQK"
      },
      "source": [
        "Set Operations"
      ]
    },
    {
      "cell_type": "code",
      "metadata": {
        "colab": {
          "base_uri": "https://localhost:8080/"
        },
        "id": "v0yXwg517xKY",
        "outputId": "ed3b2da3-2f8e-460a-8bd0-fb761f26019d"
      },
      "source": [
        "#set operations\n",
        "# union; intersection; difference\n",
        "\n",
        "{1, 2, 3, 4} | {3, 4, 5, 6} #Union\n",
        "\n",
        "{1,2,3,4,6} & {3, 4 ,5} # intersection\n",
        "\n",
        "{1,2,3,4,5} - {2,3,4} # differences"
      ],
      "execution_count": null,
      "outputs": [
        {
          "output_type": "execute_result",
          "data": {
            "text/plain": [
              "{3, 4}"
            ]
          },
          "metadata": {},
          "execution_count": 8
        }
      ]
    },
    {
      "cell_type": "markdown",
      "metadata": {
        "id": "4HuTXjID8oEd"
      },
      "source": [
        "Frozenset"
      ]
    },
    {
      "cell_type": "code",
      "metadata": {
        "colab": {
          "base_uri": "https://localhost:8080/",
          "height": 198
        },
        "id": "53WHyGIv8q3r",
        "outputId": "88457f81-cf4b-4689-9266-10030681a507"
      },
      "source": [
        "frozen_set = frozenset([1,2,3,4]) #cannot be added or updated\n",
        "frozen_set\n",
        "type(frozen_set)\n",
        "\n",
        "#frozen_set.update([1,3])  NO UPDATE ATTRIBUTE\n"
      ],
      "execution_count": null,
      "outputs": [
        {
          "output_type": "error",
          "ename": "AttributeError",
          "evalue": "ignored",
          "traceback": [
            "\u001b[0;31m---------------------------------------------------------------------------\u001b[0m",
            "\u001b[0;31mAttributeError\u001b[0m                            Traceback (most recent call last)",
            "\u001b[0;32m<ipython-input-11-e8c98ab9f546>\u001b[0m in \u001b[0;36m<module>\u001b[0;34m()\u001b[0m\n\u001b[1;32m      3\u001b[0m \u001b[0mtype\u001b[0m\u001b[0;34m(\u001b[0m\u001b[0mfrozen_set\u001b[0m\u001b[0;34m)\u001b[0m\u001b[0;34m\u001b[0m\u001b[0;34m\u001b[0m\u001b[0m\n\u001b[1;32m      4\u001b[0m \u001b[0;34m\u001b[0m\u001b[0m\n\u001b[0;32m----> 5\u001b[0;31m \u001b[0mfrozen_set\u001b[0m\u001b[0;34m.\u001b[0m\u001b[0mupdate\u001b[0m\u001b[0;34m(\u001b[0m\u001b[0;34m[\u001b[0m\u001b[0;36m1\u001b[0m\u001b[0;34m,\u001b[0m\u001b[0;36m3\u001b[0m\u001b[0;34m]\u001b[0m\u001b[0;34m)\u001b[0m\u001b[0;34m\u001b[0m\u001b[0;34m\u001b[0m\u001b[0m\n\u001b[0m",
            "\u001b[0;31mAttributeError\u001b[0m: 'frozenset' object has no attribute 'update'"
          ]
        }
      ]
    },
    {
      "cell_type": "markdown",
      "metadata": {
        "id": "L_bjWvKP8qJm"
      },
      "source": [
        "Dictionary"
      ]
    },
    {
      "cell_type": "code",
      "metadata": {
        "colab": {
          "base_uri": "https://localhost:8080/"
        },
        "id": "WJRR1Ro79mGe",
        "outputId": "7da4a1f5-1683-43e8-86b6-043c823d7e62"
      },
      "source": [
        "rainfall = {'Kathmandu': 2.36, 'Pokhara': 4.56, 'Butwal': 1.36}\n",
        "\n",
        "type(rainfall)\n",
        "\n",
        "rainfall.items()\n",
        "rainfall.keys()\n",
        "rainfall.values()\n",
        "\n",
        "rainfall['Pokhara']\n",
        "\n",
        "rainfall.get('Pokhara')  #use get to avoid error when the values are not found\n",
        "\n",
        "\n",
        "'Kathmandu' in rainfall   # search for keys\n",
        "\n",
        "'Kathmandu' not in rainfall #not in\n"
      ],
      "execution_count": null,
      "outputs": [
        {
          "output_type": "execute_result",
          "data": {
            "text/plain": [
              "True"
            ]
          },
          "metadata": {},
          "execution_count": 22
        }
      ]
    },
    {
      "cell_type": "markdown",
      "metadata": {
        "id": "ccUfNelJ_nA_"
      },
      "source": [
        ""
      ]
    },
    {
      "cell_type": "code",
      "metadata": {
        "id": "PRt9fwl9_n4H"
      },
      "source": [
        "Update Dict items"
      ],
      "execution_count": null,
      "outputs": []
    },
    {
      "cell_type": "code",
      "metadata": {
        "colab": {
          "base_uri": "https://localhost:8080/"
        },
        "id": "zfbdFE28AHQT",
        "outputId": "e01976fa-8faa-40eb-efef-c0c5b684380a"
      },
      "source": [
        "rainfall\n",
        "\n",
        "rainfall['Butwal'] = 2.35\n",
        "rainfall\n",
        "rainfall.update({'Pokhara':5.95})\n",
        "rainfall\n",
        "\n",
        "# add a new pair 'Dharan': 0.35\n",
        "rainfall['Dharan'] =0.45\n",
        "rainfall\n"
      ],
      "execution_count": null,
      "outputs": [
        {
          "output_type": "execute_result",
          "data": {
            "text/plain": [
              "{'Butwal': 2.35, 'Dharan': 0.45, 'Kathmandu': 2.36, 'Pokhara': 5.95}"
            ]
          },
          "metadata": {},
          "execution_count": 36
        }
      ]
    },
    {
      "cell_type": "markdown",
      "metadata": {
        "id": "mUtL_xa9BBPA"
      },
      "source": [
        "Remove Dict"
      ]
    },
    {
      "cell_type": "code",
      "metadata": {
        "colab": {
          "base_uri": "https://localhost:8080/"
        },
        "id": "JE5dxLMlBC_D",
        "outputId": "45426fe1-461d-4f97-e09a-da802d303837"
      },
      "source": [
        "rainfall\n",
        "#rainfall.pop('Butwal')\n"
      ],
      "execution_count": null,
      "outputs": [
        {
          "output_type": "execute_result",
          "data": {
            "text/plain": [
              "{'Kathmandu': 2.36, 'Pokhara': 5.95}"
            ]
          },
          "metadata": {},
          "execution_count": 33
        }
      ]
    }
  ]
}