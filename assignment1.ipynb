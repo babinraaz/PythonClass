{
  "nbformat": 4,
  "nbformat_minor": 0,
  "metadata": {
    "colab": {
      "name": "Assignment1.ipynb",
      "provenance": [],
      "collapsed_sections": []
    },
    "kernelspec": {
      "name": "python3",
      "display_name": "Python 3"
    },
    "language_info": {
      "name": "python"
    }
  },
  "cells": [
    {
      "cell_type": "markdown",
      "metadata": {
        "id": "REOEIRM8cO1v"
      },
      "source": [
        "# **Python for Data Science and Machine Learning Course**\n",
        "**Homework 1**"
      ]
    },
    {
      "cell_type": "markdown",
      "metadata": {
        "id": "t8rzCJM7dcQk"
      },
      "source": [
        "**Exercise 1:** Write a program that uses input to prompt a user for their \n",
        "name and then welcomes them.\n",
        "\n",
        "Enter your name: Chuck\n",
        "\n",
        "Hello Chuck"
      ]
    },
    {
      "cell_type": "code",
      "metadata": {
        "colab": {
          "base_uri": "https://localhost:8080/"
        },
        "id": "2-WF89C8cAiK",
        "outputId": "5bca903b-6e87-4f6b-b8ff-0aa962c50e77"
      },
      "source": [
        "name = input('Enter your name:')\n",
        "print (\"Hello \" + name)"
      ],
      "execution_count": null,
      "outputs": [
        {
          "output_type": "stream",
          "name": "stdout",
          "text": [
            "Enter your name:Babin Raj\n",
            "Hello Babin Raj\n"
          ]
        }
      ]
    },
    {
      "cell_type": "markdown",
      "metadata": {
        "id": "F38T6Tj8fSQE"
      },
      "source": [
        "**Exercise 2:** Write a program to prompt the user for hours and rate per \n",
        "hour to compute gross pay.\n",
        "\n",
        "Enter Hours: 35\n",
        "\n",
        "Enter Rate: 2.75\n",
        "\n",
        "Pay: 96.25"
      ]
    },
    {
      "cell_type": "code",
      "metadata": {
        "colab": {
          "base_uri": "https://localhost:8080/"
        },
        "id": "KSGYVVJgfSQF",
        "outputId": "0131f6ed-251e-4a64-f95c-97407fe7aeca"
      },
      "source": [
        "hour = input('Enter time in hour:') # Request user for time \n",
        "rate = input('Enter rate per hour:') # Request user for rate per hour\n",
        "gross_pay = float(hour) * float(rate) #Formula for gross pay & changing string to float before the operation \n",
        "pay = str(round(gross_pay,2)) # Changing Float to string for displaying & rouding to 2 decimal number\n",
        "print ('Pay: ' + pay)\n"
      ],
      "execution_count": null,
      "outputs": [
        {
          "output_type": "stream",
          "name": "stdout",
          "text": [
            "Enter time in hour:56.3\n",
            "Enter rate per hour:2.59\n",
            "Pay: 145.82\n"
          ]
        }
      ]
    },
    {
      "cell_type": "markdown",
      "metadata": {
        "id": "Zv9a1alk473l"
      },
      "source": [
        "**Exercise 3:** Assume that we execute the following assignment statements:\n",
        "\n",
        "width = 17\n",
        "\n",
        "height = 12.0\n",
        "\n",
        "For each of the following expressions, write the value of the expression and the\n",
        "\n",
        "type (of the value of the expression).\n",
        "\n",
        "1. width//2\n",
        "\n",
        "2. width/2.0\n",
        "\n",
        "3. height/3\n",
        "\n",
        "4. 1 + 2 * 5\n",
        "\n",
        "Use the Python interpreter to check your answers."
      ]
    },
    {
      "cell_type": "code",
      "metadata": {
        "colab": {
          "base_uri": "https://localhost:8080/"
        },
        "id": "hW1la1Yz5TOx",
        "outputId": "e90d0aec-111d-4d8e-e3f2-d7ae63e0ca4b"
      },
      "source": [
        "width =17\n",
        "height =12.0\n",
        "# for width//2\n",
        "print (width//2) #Data Type: Int\n",
        "print (width/2.0)  #Data Type: Float\n",
        "print (height/3)  #Data Type: Float\n",
        "print(1+2*5)  #Data Type: Int"
      ],
      "execution_count": null,
      "outputs": [
        {
          "output_type": "stream",
          "name": "stdout",
          "text": [
            "8\n",
            "8.5\n",
            "4.0\n",
            "11\n"
          ]
        }
      ]
    },
    {
      "cell_type": "code",
      "metadata": {
        "id": "1Cr0QUtFOwPC"
      },
      "source": [
        ""
      ],
      "execution_count": null,
      "outputs": []
    },
    {
      "cell_type": "markdown",
      "metadata": {
        "id": "c9MFQIXG7y9q"
      },
      "source": [
        "**Exercise 4:** Write a program which prompts the user for a Celsius temperature, convert the temperature to Fahrenheit, and print out the converted temperature."
      ]
    },
    {
      "cell_type": "code",
      "metadata": {
        "colab": {
          "base_uri": "https://localhost:8080/"
        },
        "id": "FYW5M0dr7tep",
        "outputId": "455e0560-3dff-4275-99a9-219807b8ae8c"
      },
      "source": [
        "temp_celsius = input('Enter your temperature in celsius temperature: ')\n",
        "temp_fahrenheit = (float(temp_celsius) *1.8) + 32\n",
        "#printing the temperature upto 2 decimal places\n",
        "print ('Temperature is ' + str(round (temp_fahrenheit,2)) + ' F')"
      ],
      "execution_count": null,
      "outputs": [
        {
          "output_type": "stream",
          "name": "stdout",
          "text": [
            "Enter your temperature in celsius temperature: 23\n",
            "Temperature is 73.4 F\n"
          ]
        }
      ]
    }
  ]
}