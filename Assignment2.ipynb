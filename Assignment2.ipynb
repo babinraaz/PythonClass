{
  "nbformat": 4,
  "nbformat_minor": 0,
  "metadata": {
    "colab": {
      "name": "Assignment2.ipynb",
      "provenance": [],
      "authorship_tag": "ABX9TyOm6zGj77bvkNlWWhW1IIhQ",
      "include_colab_link": true
    },
    "kernelspec": {
      "name": "python3",
      "display_name": "Python 3"
    },
    "language_info": {
      "name": "python"
    }
  },
  "cells": [
    {
      "cell_type": "markdown",
      "metadata": {
        "id": "view-in-github",
        "colab_type": "text"
      },
      "source": [
        "<a href=\"https://colab.research.google.com/github/babinraaz/PythonClass/blob/master/Assignment2.ipynb\" target=\"_parent\"><img src=\"https://colab.research.google.com/assets/colab-badge.svg\" alt=\"Open In Colab\"/></a>"
      ]
    },
    {
      "cell_type": "markdown",
      "metadata": {
        "id": "wQPkVEVKAbb2"
      },
      "source": [
        "# **Python for Data Science and Machine Learning Course**"
      ]
    },
    {
      "cell_type": "markdown",
      "metadata": {
        "id": "IF0ENHh8Ai_q"
      },
      "source": [
        "# **Homework 2**\n",
        "\n",
        "**Topic: Python Conditionals**\n",
        "Exercise 1: Write a pay computation program to give the employee 1.5 times the hourly rate for hours worked above 40 hours.\n",
        "Enter Hours: 45\n",
        "\n",
        "Enter Rate: 10\n",
        "\n",
        "Pay: 475.0"
      ]
    },
    {
      "cell_type": "code",
      "metadata": {
        "id": "1PUTYtMoAZ8b",
        "colab": {
          "base_uri": "https://localhost:8080/"
        },
        "outputId": "8c418554-a6b5-4cf2-e374-cb770301f908"
      },
      "source": [
        "# get input from user for rate and hour\n",
        "get_rate = float(input ('Enter the hourly rate ')) \n",
        "get_hour = float(input('Enter the working hour '))\n",
        "#executes if hour is more than 0 and upto 40\n",
        "if get_hour>0 and get_hour <= 40:\n",
        "  #display output\n",
        "  print ('Payment for your work is ' + str(get_hour * get_rate))\n",
        "#executes if houe is more than 40 \n",
        "elif get_hour > 40:\n",
        "  #display output\n",
        "  print ('Payement for your work is ' + str((get_hour-40) * (get_rate*1.5) + (40 * get_rate) ))\n",
        "#executes if all if-statement are not matched\n",
        "else:\n",
        "  #display output\n",
        "  print(' Working hour not valid')"
      ],
      "execution_count": null,
      "outputs": [
        {
          "output_type": "stream",
          "name": "stdout",
          "text": [
            "Enter the hourly rate 10\n",
            "Enter the working hour 0\n",
            " Working hour not valid\n"
          ]
        }
      ]
    },
    {
      "cell_type": "markdown",
      "metadata": {
        "id": "nCjjZGjAA-UN"
      },
      "source": [
        "Exercise 2: Write a program to prompt for a score between 0.0 and 1.0. If the score is out of range, print an error message. If the score is between 0.0 and 1.0, print a grade using the following table:\n",
        "\n",
        " **Range**    **|**  Grade\n",
        "\n",
        "\n",
        "  **>= 0.9**   **|**  A\n",
        "\n",
        "   **>= 0.8**  **|**  B\n",
        "\n",
        "  **>= 0.7**   **|**   C\n",
        "\n",
        "  **>= 0.6**   **|** D\n",
        "  \n",
        "  **< 0.6**    | F"
      ]
    },
    {
      "cell_type": "code",
      "metadata": {
        "id": "ONd4kktOBice",
        "colab": {
          "base_uri": "https://localhost:8080/"
        },
        "outputId": "eaad59f8-6f9e-4300-a1f5-076f490329b6"
      },
      "source": [
        "#get input from user and store it in score as float data type\n",
        "score = float(input('Enter yout score: '))\n",
        "#executes while loop until the the comparision value is true\n",
        "while score >= 0.0 and score <= 1.0:\n",
        "  #executes if score is more than or equals to 0.9 \n",
        "  if score >= 0.9:\n",
        "    #display grade\n",
        "    print(' You secured grade A')\n",
        "  #executes if above if-statement is invalid & score is more than or equals to 0.8\n",
        "  elif score >= 0.8:\n",
        "    #display grade\n",
        "    print('You secured grade B')\n",
        "  #executes if above if-statement is invalid & score is more than or equals to 0.7\n",
        "  elif score >= 0.7:\n",
        "    #display grade\n",
        "    print('You secured grade C')\n",
        "  #executes if above if-statement is invalid & score is more than or equals to 0.6\n",
        "  elif score >= 0.6:\n",
        "    #display grade\n",
        "    print('You secured grade D')\n",
        "  #executes if above all if-statement is invalid \n",
        "  else:\n",
        "    #display grade\n",
        "    print (' You secured Grade F')\n",
        "#executes if the score is out of range\n",
        "else:\n",
        "  #display \n",
        "  print('Score must be between 0.0 and 1.0')\n",
        "\n",
        "\n",
        "\n"
      ],
      "execution_count": null,
      "outputs": [
        {
          "output_type": "stream",
          "name": "stdout",
          "text": [
            "Enter yout score: 4\n",
            "Score must be between 0.0 and 1.0\n"
          ]
        }
      ]
    }
  ]
}