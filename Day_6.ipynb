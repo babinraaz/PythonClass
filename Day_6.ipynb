{
  "nbformat": 4,
  "nbformat_minor": 0,
  "metadata": {
    "colab": {
      "name": "Day 6.ipynb",
      "provenance": [],
      "authorship_tag": "ABX9TyNVIa2s43/aF1IdgiVxcqxf",
      "include_colab_link": true
    },
    "kernelspec": {
      "name": "python3",
      "display_name": "Python 3"
    },
    "language_info": {
      "name": "python"
    }
  },
  "cells": [
    {
      "cell_type": "markdown",
      "metadata": {
        "id": "view-in-github",
        "colab_type": "text"
      },
      "source": [
        "<a href=\"https://colab.research.google.com/github/babinraaz/PythonClass/blob/master/Day_6.ipynb\" target=\"_parent\"><img src=\"https://colab.research.google.com/assets/colab-badge.svg\" alt=\"Open In Colab\"/></a>"
      ]
    },
    {
      "cell_type": "markdown",
      "metadata": {
        "id": "hkHMpY3qjE5E"
      },
      "source": [
        "Python Class"
      ]
    },
    {
      "cell_type": "code",
      "metadata": {
        "id": "XcfaJ0HviQN_"
      },
      "source": [
        "#deine a class inpython\n",
        "class Student: #class Name should start from Capital letter\n",
        "  pass\n",
        "\n",
        "#make copies of Student => instances\n",
        "student1 = Student()  #created a copy of Student\n",
        "student2 = Student()  # instantiated Student Class\n"
      ],
      "execution_count": null,
      "outputs": []
    },
    {
      "cell_type": "markdown",
      "metadata": {
        "id": "h4E7f2NmkQcB"
      },
      "source": [
        "Principles of OOP:\n",
        "\n",
        "1. Encapsulation: \n",
        "properties/variables and method\n",
        "\n",
        "properties: mostly static, hold data values, noun\n",
        "\n",
        "for eg: Student --> Name, Id, Address\n",
        "\n",
        "Two types:local & global variable\n",
        "\n",
        "method: dynamicaction, verbs\n",
        "\n",
        "for eg: play(), study(), do_assignment\n",
        "\n",
        "2. Inheritance:\n"
      ]
    },
    {
      "cell_type": "code",
      "metadata": {
        "colab": {
          "base_uri": "https://localhost:8080/",
          "height": 52
        },
        "id": "l2JVuvAAiYJ8",
        "outputId": "784b4ce9-6497-4c90-ddc3-13e3bafee76d"
      },
      "source": [
        "class Student:\n",
        "  #add a property\n",
        "  college =' ISMT'\n",
        "\n",
        "stu1 = Student()\n",
        "# I just instantiated the class \n",
        "stu2 = Student()\n",
        "\n",
        "print(type(stu1))\n",
        "\n",
        "stu1.college()\n",
        "stu2.college()\n",
        "#college is a class variable\n",
        "# it is defined and intialized in the class deition\n",
        "# all the instances share the same property and variable\n",
        "\n",
        "stu1.name = \"Tom\" #instance variable\n",
        "stu2.name = \" Sally\"\n",
        "stu1.name\n"
      ],
      "execution_count": null,
      "outputs": [
        {
          "output_type": "stream",
          "name": "stdout",
          "text": [
            "<class '__main__.Student'>\n"
          ]
        },
        {
          "output_type": "execute_result",
          "data": {
            "application/vnd.google.colaboratory.intrinsic+json": {
              "type": "string"
            },
            "text/plain": [
              "'Tom'"
            ]
          },
          "metadata": {},
          "execution_count": 2
        }
      ]
    },
    {
      "cell_type": "code",
      "metadata": {
        "colab": {
          "base_uri": "https://localhost:8080/"
        },
        "id": "LNrFQ-GupfDr",
        "outputId": "f7fe8ee5-e34a-4a90-e656-947578b6be69"
      },
      "source": [
        "#constructor\n",
        "# just a method which gets called automatically when the class is instantiated\n",
        "# lets write a constructor for the Student class\n",
        "class Student:\n",
        "  #constructor\n",
        "  #self is instance (here stu1 is self, which instance is being used)\n",
        "  def __init__(self,n,a): #doubleunderscope\n",
        "    self.name = n #instance variable/properties\n",
        "    self.age =a\n",
        "  def incr_age(self): #regular method\n",
        "    self.age+= 1\n",
        "    return self.age\n",
        "#let's instantiate\n",
        "stu1 = Student('Babin', 21)\n",
        "\n",
        "stu2 = Student('Raaz', 22)\n",
        "\n",
        "stu1.incr_age()\n",
        "#instance method=. first parameter is always self\n",
        "#instance properties (self.name) always need a self. before the property\n",
        "\n"
      ],
      "execution_count": null,
      "outputs": [
        {
          "output_type": "execute_result",
          "data": {
            "text/plain": [
              "22"
            ]
          },
          "metadata": {},
          "execution_count": 12
        }
      ]
    },
    {
      "cell_type": "code",
      "metadata": {
        "id": "cy2EXvc6xWAU"
      },
      "source": [
        "#__str__()method\n",
        "class Student:\n",
        "  #constructor\n",
        "  def __init__(self,n,a):\n",
        "    self.name= n\n",
        "    self.age = a\n",
        "  #_str__() method\n",
        "  def __str__(self):\n",
        "    return f\"{self.name} is {self.age} years old\" \n",
        "stu1 =Student('Sam', 25)"
      ],
      "execution_count": null,
      "outputs": []
    }
  ]
}