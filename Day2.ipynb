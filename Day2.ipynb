{
  "nbformat": 4,
  "nbformat_minor": 0,
  "metadata": {
    "colab": {
      "name": "Day2.ipynb",
      "provenance": [],
      "authorship_tag": "ABX9TyOHylOD8Z5dVAeCTNRVUf95",
      "include_colab_link": true
    },
    "kernelspec": {
      "name": "python3",
      "display_name": "Python 3"
    },
    "language_info": {
      "name": "python"
    }
  },
  "cells": [
    {
      "cell_type": "markdown",
      "metadata": {
        "id": "view-in-github",
        "colab_type": "text"
      },
      "source": [
        "<a href=\"https://colab.research.google.com/github/babinraaz/PythonClass/blob/master/Day2.ipynb\" target=\"_parent\"><img src=\"https://colab.research.google.com/assets/colab-badge.svg\" alt=\"Open In Colab\"/></a>"
      ]
    },
    {
      "cell_type": "markdown",
      "metadata": {
        "id": "3B_PFbvDm8mt"
      },
      "source": [
        "**Day 2**"
      ]
    },
    {
      "cell_type": "markdown",
      "metadata": {
        "id": "eEj7Did9nctN"
      },
      "source": [
        "if- else statement"
      ]
    },
    {
      "cell_type": "code",
      "metadata": {
        "colab": {
          "base_uri": "https://localhost:8080/"
        },
        "id": "s-xCyrwYmzma",
        "outputId": "77d299d3-2a84-4d5b-8d89-2c370df5f10a"
      },
      "source": [
        "x= 2\n",
        "if x > 2:\n",
        "  print ('x is greater than 2')\n",
        "if x == 2:\n",
        "  print ('x is equal to 2')\n",
        "  print ('awesome')\n",
        "if x<2:\n",
        "  print ('x is less thean 2')\n",
        "print ('awesome') # this is not part of if-statement\n",
        "\n",
        "\n"
      ],
      "execution_count": 1,
      "outputs": [
        {
          "output_type": "stream",
          "name": "stdout",
          "text": [
            "x is equal to 2\n",
            "awesome\n"
          ]
        }
      ]
    },
    {
      "cell_type": "markdown",
      "metadata": {
        "id": "PDzZ3kXgnx-p"
      },
      "source": [
        "elif statement"
      ]
    },
    {
      "cell_type": "code",
      "metadata": {
        "id": "so9fWPZqnyf7"
      },
      "source": [
        "x =2 # also try with values x= 6, 4, 2\n",
        "if x > 5:\n",
        "  print('x is grater than 5')\n",
        "elif x > 3:       #elif is same as elseif \n",
        "  print ('x is greater than 3')\n",
        "elif x > 1:\n",
        "  print ('x is greater than 1')"
      ],
      "execution_count": null,
      "outputs": []
    }
  ]
}