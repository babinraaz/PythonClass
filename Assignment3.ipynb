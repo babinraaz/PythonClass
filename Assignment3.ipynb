{
  "nbformat": 4,
  "nbformat_minor": 0,
  "metadata": {
    "colab": {
      "name": "Assignment3.ipynb",
      "provenance": [],
      "authorship_tag": "ABX9TyOGQ4XvAvQLoinKFMIgkK46",
      "include_colab_link": true
    },
    "kernelspec": {
      "name": "python3",
      "display_name": "Python 3"
    },
    "language_info": {
      "name": "python"
    }
  },
  "cells": [
    {
      "cell_type": "markdown",
      "metadata": {
        "id": "view-in-github",
        "colab_type": "text"
      },
      "source": [
        "<a href=\"https://colab.research.google.com/github/babinraaz/PythonClass/blob/master/Assignment3.ipynb\" target=\"_parent\"><img src=\"https://colab.research.google.com/assets/colab-badge.svg\" alt=\"Open In Colab\"/></a>"
      ]
    },
    {
      "cell_type": "markdown",
      "metadata": {
        "id": "yKHzePjhLxqG"
      },
      "source": [
        "**Homework Assignment 3**\n",
        "\n",
        "> # **Topic: Python Loops**\n",
        "\n",
        "\n",
        "\n",
        "\n",
        "For the following exercises, please submit the link to your Colab notebook with solutions.\n",
        "\n",
        "Exercise 1: Write a program which repeatedly reads numbers until the user enters “done”. Once “done” is entered, print out the total, count, and average of the numbers. If the user enters anything other than a number, detect their mistake using try and except and print an error message and skip to the next number."
      ]
    },
    {
      "cell_type": "code",
      "metadata": {
        "colab": {
          "base_uri": "https://localhost:8080/"
        },
        "id": "zF8PNHLYLqBp",
        "outputId": "4e220ba1-b1e0-4538-d146-658b03997366"
      },
      "source": [
        "#Assiging intial values\n",
        "total = 0.0  \n",
        "count = 0\n",
        "average= 0.0\n",
        "#Continues loop till the loop is true\n",
        "while True:   \n",
        "  #ask for user for input\n",
        "  data = input(\"Enter the numbers to get calculation output: \")   \n",
        "  #excutes if the data provided is Done\n",
        "  if data == ('Done'):\n",
        "    # ends the while loop\n",
        "    break\n",
        "  #excutes for every possible data\n",
        "  try:\n",
        "    #converts every possible data to float data type\n",
        "    num = float(data)\n",
        "  #executes if data is not able to convert to float\n",
        "  except:\n",
        "    #alerts user for invalid data type\n",
        "    print(f'Invalid data: {data}')\n",
        "    #exits for the try-except\n",
        "    continue\n",
        "  #calculation\n",
        "  count +=1\n",
        "  total = total + num\n",
        "#printing output\n",
        "print(f'Total: {total}')\n",
        "print(f'Count: {count}')\n",
        "print('average: ' + str(total/count))"
      ],
      "execution_count": 13,
      "outputs": [
        {
          "output_type": "stream",
          "name": "stdout",
          "text": [
            "Enter the numbers to get calculation output: 3\n",
            "Enter the numbers to get calculation output: 4\n",
            "Enter the numbers to get calculation output: 5\n",
            "Enter the numbers to get calculation output: Done\n",
            "Total: 12.0\n",
            "Count: 3\n",
            "average: 4.0\n"
          ]
        }
      ]
    },
    {
      "cell_type": "markdown",
      "metadata": {
        "id": "d6CFBQXvUIR1"
      },
      "source": [
        "**Exercise 2: Write another program that prompts for a list of numbers as above and at the end prints out both the maximum and minimum of the numbers instead of the average.**"
      ]
    },
    {
      "cell_type": "code",
      "metadata": {
        "colab": {
          "base_uri": "https://localhost:8080/"
        },
        "id": "pvfwgZpXUXb7",
        "outputId": "6ad3debe-bf4d-4b94-e246-e14703a08dad"
      },
      "source": [
        "#calculate the minimum and maxmium from the list from the user.\n",
        "#Intializing values of max and min as None\n",
        "max = None\n",
        "min = None\n",
        "#executes until the loop is true\n",
        "while True:\n",
        "  #Ask user to input number\n",
        "  data = input(\"Enter a number\")\n",
        "  #executes if entered number is 'Done'\n",
        "  if data == ('Done'):\n",
        "    #exits while loop\n",
        "    break\n",
        "  #executes for possible data \n",
        "  try:\n",
        "    #converts inputs from user to intger\n",
        "    num= int(data)\n",
        "    #excutes is min and max is not assigned\n",
        "    if min == None and max == None:\n",
        "      #Assigns values\n",
        "      min = num\n",
        "      max = num\n",
        "    #to get mimimum number \n",
        "    if min > num:\n",
        "      min = num\n",
        "    #to get maximum number\n",
        "    if max < num:\n",
        "      max = num\n",
        "  #excutes if the inputed data is not integer    \n",
        "  except:\n",
        "    #alerts for invalaid inputs\n",
        "    print(f\"Invalid Input:  {data}\")\n",
        "#Display Output    \n",
        "print(f'Minimum number: {min}')\n",
        "print(f'Maxmium number: {max}')\n",
        "\n",
        "\n"
      ],
      "execution_count": 19,
      "outputs": [
        {
          "output_type": "stream",
          "name": "stdout",
          "text": [
            "Enter a number4.0\n",
            "Invalid Input:  4.0\n",
            "Enter a numberDone\n",
            "Minimum number: None\n",
            "Maxmium number: None\n"
          ]
        }
      ]
    }
  ]
}