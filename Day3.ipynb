{
  "nbformat": 4,
  "nbformat_minor": 0,
  "metadata": {
    "colab": {
      "name": "Day3.ipynb",
      "provenance": [],
      "authorship_tag": "ABX9TyPGmmFtPuNGdMURlIKZqvtC",
      "include_colab_link": true
    },
    "kernelspec": {
      "name": "python3",
      "display_name": "Python 3"
    },
    "language_info": {
      "name": "python"
    }
  },
  "cells": [
    {
      "cell_type": "markdown",
      "metadata": {
        "id": "view-in-github",
        "colab_type": "text"
      },
      "source": [
        "<a href=\"https://colab.research.google.com/github/babinraaz/PythonClass/blob/master/Day3.ipynb\" target=\"_parent\"><img src=\"https://colab.research.google.com/assets/colab-badge.svg\" alt=\"Open In Colab\"/></a>"
      ]
    },
    {
      "cell_type": "markdown",
      "metadata": {
        "id": "0Ii1iis9wEjy"
      },
      "source": [
        "Day 3"
      ]
    },
    {
      "cell_type": "code",
      "metadata": {
        "colab": {
          "base_uri": "https://localhost:8080/"
        },
        "id": "kLcAi33ev1ae",
        "outputId": "7e7e372e-27af-4229-9632-e1cdf5eddf25"
      },
      "source": [
        "#Range\n",
        "tuple(range(2,9))\n",
        "\n",
        "tuple(range(2, 10, 2))\n",
        "\n",
        "for num in range(3, 10, 3):\n",
        "  print (num)\n",
        "  "
      ],
      "execution_count": 4,
      "outputs": [
        {
          "output_type": "stream",
          "name": "stdout",
          "text": [
            "3\n",
            "6\n",
            "9\n"
          ]
        }
      ]
    },
    {
      "cell_type": "markdown",
      "metadata": {
        "id": "3R-Y8y5Hw9j1"
      },
      "source": [
        "Nested Loop"
      ]
    },
    {
      "cell_type": "code",
      "metadata": {
        "colab": {
          "base_uri": "https://localhost:8080/"
        },
        "id": "PM_owuQLw_Oi",
        "outputId": "52002452-719c-4547-fd0a-0a35cd8cfaaf"
      },
      "source": [
        "furniture = ['chair', 'table']\n",
        "colors =['Blue', 'Red']\n",
        "for f in furniture:\n",
        "  for c in colors:\n",
        "    print(c,f)"
      ],
      "execution_count": 5,
      "outputs": [
        {
          "output_type": "stream",
          "name": "stdout",
          "text": [
            "Blue chair\n",
            "Red chair\n",
            "Blue table\n",
            "Red table\n"
          ]
        }
      ]
    },
    {
      "cell_type": "markdown",
      "metadata": {
        "id": "Taio9oAmzUWu"
      },
      "source": [
        "Function"
      ]
    },
    {
      "cell_type": "code",
      "metadata": {
        "colab": {
          "base_uri": "https://localhost:8080/"
        },
        "id": "DjE--uh-zWT8",
        "outputId": "af1efdf1-da63-4814-acc1-01173ae5f901"
      },
      "source": [
        "#creating a function\n",
        "def add(x, y):  #defining a function\n",
        "  return x + y\n",
        "\n",
        "#calling a function\n",
        "add (2, 3)\n",
        "\n",
        "\n",
        "# no input gives output\n",
        "def func1():\n",
        "  return ' hi there!'\n",
        "\n",
        "func1()\n",
        "\n",
        "\n",
        "#some input but no output\n",
        "def func2(name):\n",
        "  print('hello!, ' + name)\n",
        "\n",
        "x = func2('sama')\n",
        "print (x)    #no return in function, so it is not output; just part of processing\n",
        "\n",
        "\n",
        "#function \n",
        "def mult(x, y):\n",
        "  return x*y\n",
        "\n",
        "mult(2, 3)\n",
        "\n"
      ],
      "execution_count": 16,
      "outputs": [
        {
          "output_type": "stream",
          "name": "stdout",
          "text": [
            "hello!, sama\n",
            "None\n"
          ]
        },
        {
          "output_type": "execute_result",
          "data": {
            "text/plain": [
              "6"
            ]
          },
          "metadata": {},
          "execution_count": 16
        }
      ]
    },
    {
      "cell_type": "markdown",
      "metadata": {
        "id": "gUtRJr4I7d8y"
      },
      "source": [
        "Arbitrary Arguments"
      ]
    },
    {
      "cell_type": "code",
      "metadata": {
        "colab": {
          "base_uri": "https://localhost:8080/"
        },
        "id": "cZ_lDSeE7ihR",
        "outputId": "19901ca9-ac2f-4bbb-c546-8be8f0bd4082"
      },
      "source": [
        "#arbitrary arguments\n",
        "def accumulate(*num):  # *args =basic convention\n",
        "  sum = 0\n",
        "  for n in num:\n",
        "    sum +=n\n",
        "  return sum\n",
        "\n",
        "accumulate(1,2,3,4,5,6)"
      ],
      "execution_count": 17,
      "outputs": [
        {
          "output_type": "execute_result",
          "data": {
            "text/plain": [
              "21"
            ]
          },
          "metadata": {},
          "execution_count": 17
        }
      ]
    },
    {
      "cell_type": "markdown",
      "metadata": {
        "id": "QSXSv6ok97Ft"
      },
      "source": [
        "lambda functions"
      ]
    },
    {
      "cell_type": "code",
      "metadata": {
        "colab": {
          "base_uri": "https://localhost:8080/"
        },
        "id": "V2kTNVTM99vY",
        "outputId": "fe6454d6-4310-4143-94ea-2d664cf6c427"
      },
      "source": [
        "sum = lambda x, y, z: x + y + z\n",
        "sum (1, 4, -6)\n",
        "\n",
        "#lambda functions => anonymous functions"
      ],
      "execution_count": 18,
      "outputs": [
        {
          "output_type": "execute_result",
          "data": {
            "text/plain": [
              "-1"
            ]
          },
          "metadata": {},
          "execution_count": 18
        }
      ]
    },
    {
      "cell_type": "markdown",
      "metadata": {
        "id": "Bw5U8uCB_-dp"
      },
      "source": [
        "Tuple"
      ]
    },
    {
      "cell_type": "code",
      "metadata": {
        "colab": {
          "base_uri": "https://localhost:8080/"
        },
        "id": "AQLnylDrAAuu",
        "outputId": "89bf8a70-ed13-4c99-c61d-5032e5436079"
      },
      "source": [
        "my_tup = (1, 'hi', True, 2.3, 1, 'hi')\n",
        "type (my_tup)\n",
        "len(my_tup)\n",
        "my_tup[2]\n",
        "my_tup[2:5]\n",
        "my_tup[:5:2] # (1, true, 1)"
      ],
      "execution_count": 21,
      "outputs": [
        {
          "output_type": "execute_result",
          "data": {
            "text/plain": [
              "(True, 2.3, 1)"
            ]
          },
          "metadata": {},
          "execution_count": 21
        }
      ]
    }
  ]
}